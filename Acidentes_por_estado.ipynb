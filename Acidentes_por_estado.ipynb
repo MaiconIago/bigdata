import matplotlib.pyplot as plt

# Contar acidentes por estado
contagem_estados = df_sul['uf'].value_counts()

# Criar o gráfico de pizza
plt.figure(figsize=(8, 8))
plt.pie(
    contagem_estados,
    labels=contagem_estados.index,  # Estados (PR, SC, RS)
    autopct='%.1f%%',              # Mostrar porcentagens com 1 casa decimal
    startangle=90,                 # Ângulo inicial (para organizar visualmente)
    colors=['#ff9999', '#66b3ff', '#99ff99'],  # Cores personalizadas
    explode=(0.05, 0, 0)           # "Explodir" um pedaço (destaque para o PR)
)

# Adicionar título e centralizar
plt.title('Distribuição de Acidentes por Estado (Sul - 2024)', pad=20)
plt.show()
