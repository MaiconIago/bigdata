{
  "cells": [
    {
      "cell_type": "code",
      "execution_count": null,
      "metadata": {
        "colab": {
          "base_uri": "https://localhost:8080/",
          "height": 446
        },
        "id": "-B0i71vUNhp8",
        "outputId": "72a1713a-4aca-4534-a654-00b6cfa6215a"
      },
      "outputs": [],
      "source": [
        "# Importando a biblioteca pandas\n",
        "import pandas as pd\n",
        "\n",
        "# Carregando a planilha CSV\n",
        "# Usamos o separador ';' pois é comum em arquivos brasileiros\n",
        "# encoding='latin1' para evitar erro com acentos\n",
        "df = pd.read_csv('/content/datatran2024.csv', sep=';', encoding='latin1')  # Obs:/content/ é a pasta padrão do Google Colab, onde os arquivos enviados e salvos ficam\n",
        "\n",
        "\n",
        "# Limpeza dos dados\n",
        "# Converter a coluna de data para o formato datetime\n",
        "df['data_inversa'] = pd.to_datetime(df['data_inversa'], format='%Y-%m-%d', errors='coerce')\n",
        "# Criar uma nova coluna com o número do mês\n",
        "df['mes'] = df['data_inversa'].dt.month\n",
        "\n",
        "# Definindo colunas essenciais que não podem estar vazias\n",
        "colunas_essenciais = [\n",
        "    'data_inversa', 'uf', 'municipio',\n",
        "    'causa_acidente', 'tipo_acidente',\n",
        "    'classificacao_acidente'\n",
        "]\n",
        "# Removendo linhas que têm valores ausentes nessas colunas\n",
        "df = df.dropna(subset=colunas_essenciais)\n",
        "\n",
        "# Passo 3: Filtrar apenas os estados do Sul\n",
        "ufs_sul = ['PR', 'SC', 'RS']\n",
        "df_sul = df[df['uf'].isin(ufs_sul)]\n",
        "\n",
        "# Exportando para novo arquivo csv\n",
        "df_sul.to_csv('/content/acidentes_sul_2024.csv', index=False, sep=';', encoding='latin1')\n",
        "\n",
        "# Visualizar os primeiros registros\n",
        "df_sul.head()"
      ]
    }
  ],
  "metadata": {
    "colab": {
      "provenance": []
    },
    "kernelspec": {
      "display_name": "Python 3",
      "name": "python3"
    },
    "language_info": {
      "name": "python"
    }
  },
  "nbformat": 4,
  "nbformat_minor": 0
}
