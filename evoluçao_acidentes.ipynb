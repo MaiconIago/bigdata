import matplotlib.pyplot as plt
import seaborn as sns

# Agrupar os dados por mês e contar acidentes
acidentes_por_mes = df_sul.groupby('mes').size()

# Gráfico de linha
plt.figure(figsize=(12, 6))
sns.lineplot(
    x=acidentes_por_mes.index,
    y=acidentes_por_mes.values,
    marker='o',  # Marcadores para cada ponto
    linewidth=2.5,
    color='#e74c3c'
)

# Personalização
plt.title('Evolução Mensal de Acidentes no Sul (2024)', fontsize=14)
plt.xlabel('Mês')
plt.ylabel('Número de Acidentes')
plt.xticks(ticks=range(1, 13), labels=['Jan', 'Fev', 'Mar', 'Abr', 'Mai', 'Jun', 'Jul', 'Ago', 'Set', 'Out', 'Nov', 'Dez'])
plt.grid(axis='y', linestyle='--', alpha=0.7)

# Adicionar valores em cada ponto
for x, y in zip(acidentes_por_mes.index, acidentes_por_mes.values):
    plt.text(x, y + 10, f'{y}', ha='center', va='bottom')

plt.show()
