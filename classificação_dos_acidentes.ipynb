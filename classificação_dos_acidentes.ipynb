import seaborn as sns
import matplotlib.pyplot as plt

dataframe = df_sul.copy()

plt.figure(figsize=(10, 5))
sns.countplot(data=dataframe, x='classificacao_acidente', palette='flare')
plt.title('Classificação dos Acidentes no Sul (2024)')
plt.xlabel('Classificação')
plt.ylabel('Total de Acidentes')
plt.xticks(rotation=45)
plt.show()
