###treinamento de ML com tensorflow
import pandas as pd
import numpy as np
from sklearn.model_selection import train_test_split
from sklearn.preprocessing import LabelEncoder, StandardScaler
from sklearn.metrics import classification_report
from imblearn.over_sampling import SMOTE
import xgboost as xgb
import warnings

warnings.filterwarnings('ignore')

# Cópia dos dados
df = df_sul.copy()

# Seleção de colunas relevantes
colunas = ['dia_semana', 'horario', 'br', 'km', 'municipio', 'fase_dia',
           'sentido_via', 'condicao_metereologica', 'tipo_pista', 'tracado_via',
           'uso_solo', 'veiculos', 'pessoas', 'classificacao_acidente']
df = df[colunas].dropna()

# Extração da hora do dia
df['hora'] = pd.to_datetime(df['horario'], format='%H:%M:%S').dt.hour

# Codificação de variáveis categóricas
cat_cols = ['dia_semana', 'br', 'municipio', 'fase_dia', 'sentido_via',
            'condicao_metereologica', 'tipo_pista', 'tracado_via', 'uso_solo']

label_encoders = {}
for col in cat_cols:
    le = LabelEncoder()
    df[col + '_enc'] = le.fit_transform(df[col])
    label_encoders[col] = le

# Normalização da hora
scaler = StandardScaler()
df['hora_norm'] = scaler.fit_transform(df[['hora']])

# Limpeza extra nos valores da coluna 'classificacao_acidente'
df['classificacao_acidente'] = df['classificacao_acidente'].str.strip()  # Remover espaços extras
df['classificacao_acidente'] = df['classificacao_acidente'].str.title()  # Padronizar para capitalização adequada

# Verificar valores únicos após limpeza
print(f"Valores únicos após limpeza: {df['classificacao_acidente'].unique()}")

# Mapeamento das classes do acidente (Multiclasse)
df['classificacao_acidente'] = df['classificacao_acidente'].map({
    'Sem Vítimas': 0,
    'Com Vítimas Feridas': 1,
    'Com Vítimas Fatais': 2
})

# Remover as linhas com NaN na coluna de destino
df = df[df['classificacao_acidente'].notna()]

# Separar features e target
X = df[[col + '_enc' for col in cat_cols] + ['hora_norm', 'veiculos', 'pessoas']]
y = df['classificacao_acidente']

# Dividir em treino e teste
X_train, X_test, y_train, y_test = train_test_split(X, y, test_size=0.2, random_state=42)

# Aplicar SMOTE para balancear as classes no treinamento
smote = SMOTE(random_state=42)
X_train_smote, y_train_smote = smote.fit_resample(X_train, y_train)

# Modelo XGBoost com balanceamento de classes
model_xgb = xgb.XGBClassifier(scale_pos_weight=1, random_state=42, use_label_encoder=False)
model_xgb.fit(X_train_smote, y_train_smote)

# Avaliação
y_pred_xgb = model_xgb.predict(X_test)
print("Relatório de Classificação - Gravidade do Acidente (Multiclasse) com XGBoost e SMOTE:")
print(classification_report(y_test, y_pred_xgb))

